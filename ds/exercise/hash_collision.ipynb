{
 "cells": [
  {
   "cell_type": "code",
   "execution_count": 29,
   "metadata": {},
   "outputs": [],
   "source": [
    "class HashTable:\n",
    "    def __init__(self):\n",
    "        self.MAX = 10\n",
    "        # self.arr = [None for i in range(self.MAX)]\n",
    "        self.arr = [[] for i in range(self.MAX)] # to handle collision instead of NOne we will have a list\n",
    "    def get_hash(self,key):\n",
    "        hash =0\n",
    "        for char in key:\n",
    "            hash+=ord(char)\n",
    "        return hash%self.MAX\n",
    "    \n",
    "    def __getitem__(self,key):\n",
    "        # h=self.get_hash(index)\n",
    "        h=self.get_hash(key)\n",
    "        # return self.arr[h]\n",
    "        for element in self.arr[h]:\n",
    "            if element[0] == key:\n",
    "                return element[1]\n",
    "\n",
    "    def __setitem__(self,key,val):\n",
    "        h=self.get_hash(key)\n",
    "        found = False\n",
    "        # self.arr[h]=val\n",
    "        #  iterate through the linked list and check if the key is already present\n",
    "        for idx, element in enumerate(self.arr[h]):\n",
    "            # if the key already exists we just modify the value\n",
    "            if len(element)==2 and element[0] ==key: \n",
    "                self.arr[h][idx] = (key,val) # as tuples are immutable we are just creating a new tuple here\n",
    "                found = True\n",
    "                break\n",
    "        # if the key is not present we append the key value pair\n",
    "        if not found:\n",
    "            self.arr[h].append((key,val)) \n",
    "    \n",
    "    def __delitem__(self,key):\n",
    "        h=self.get_hash(key)\n",
    "        for index,kv in enumerate(self.arr[h]):\n",
    "            if kv[0] ==key:\n",
    "                  del self.arr[h][index]\n",
    "    "
   ]
  },
  {
   "cell_type": "code",
   "execution_count": 30,
   "metadata": {},
   "outputs": [
    {
     "data": {
      "text/plain": [
       "9"
      ]
     },
     "execution_count": 30,
     "metadata": {},
     "output_type": "execute_result"
    }
   ],
   "source": [
    "t = HashTable()\n",
    "t.get_hash('march 6')"
   ]
  },
  {
   "cell_type": "code",
   "execution_count": 31,
   "metadata": {},
   "outputs": [],
   "source": [
    "t[\"march 6\"] = 120\n",
    "t[\"march 6\"] = 459\n",
    "t[\"march 8\"] = 67\n",
    "t[\"march 9\"] = 34\n",
    "t[\"march 17\"] = 33"
   ]
  },
  {
   "cell_type": "code",
   "execution_count": 28,
   "metadata": {},
   "outputs": [
    {
     "data": {
      "text/plain": [
       "459"
      ]
     },
     "execution_count": 28,
     "metadata": {},
     "output_type": "execute_result"
    }
   ],
   "source": [
    "t[\"march 6\"]\n",
    "# collision >> 33\n",
    "# after chaining\n",
    "# [('march 6', 459), ('march 17', 33)]"
   ]
  },
  {
   "cell_type": "code",
   "execution_count": 24,
   "metadata": {},
   "outputs": [
    {
     "data": {
      "text/plain": [
       "[[],\n",
       " [('march 8', 67)],\n",
       " [('march 9', 34)],\n",
       " [],\n",
       " [],\n",
       " [],\n",
       " [],\n",
       " [],\n",
       " [],\n",
       " [('march 6', 459), ('march 17', 33)]]"
      ]
     },
     "execution_count": 24,
     "metadata": {},
     "output_type": "execute_result"
    }
   ],
   "source": [
    "t.arr"
   ]
  },
  {
   "cell_type": "code",
   "execution_count": null,
   "metadata": {},
   "outputs": [],
   "source": [
    "# Delete item from hash table\n",
    "del t[\"march 6\"]"
   ]
  }
 ],
 "metadata": {
  "kernelspec": {
   "display_name": "base",
   "language": "python",
   "name": "python3"
  },
  "language_info": {
   "codemirror_mode": {
    "name": "ipython",
    "version": 3
   },
   "file_extension": ".py",
   "mimetype": "text/x-python",
   "name": "python",
   "nbconvert_exporter": "python",
   "pygments_lexer": "ipython3",
   "version": "3.11.7"
  }
 },
 "nbformat": 4,
 "nbformat_minor": 2
}
