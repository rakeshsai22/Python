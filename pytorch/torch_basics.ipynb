{
 "cells": [
  {
   "cell_type": "code",
   "execution_count": 2,
   "metadata": {},
   "outputs": [],
   "source": [
    "import torch\n",
    "import numpy as np"
   ]
  },
  {
   "cell_type": "code",
   "execution_count": 12,
   "metadata": {},
   "outputs": [
    {
     "name": "stdout",
     "output_type": "stream",
     "text": [
      "from data [[1, 2], [3, 4]] , x_datatensor([[1, 2],\n",
      "        [3, 4]]) with shape:torch.Size([2, 2])\n",
      "from np arr [[1 2]\n",
      " [3 4]],  x_np : tensor([[1, 2],\n",
      "        [3, 4]]) with shape : torch.Size([2, 2])\n",
      "Ones tensor: \n",
      " tensor([[1, 1],\n",
      "        [1, 1]])\n",
      "\n",
      "Random tensor: \n",
      " tensor([[0.8105, 0.6475],\n",
      "        [0.9048, 0.7188]], dtype=torch.float16)\n",
      "\n"
     ]
    }
   ],
   "source": [
    "# directly from data\n",
    "data = [[1,2],[3,4]]\n",
    "x_data = torch.tensor(data)\n",
    "print(f\"from data {data} , x_data{x_data} with shape:{x_data.shape}\")\n",
    "\n",
    "#  from a numpy array\n",
    "np_array = np.array(data)\n",
    "x_np = torch.from_numpy(np_array)\n",
    "print(f\"from np arr {np_array},  x_np : {x_np} with shape : {x_np.shape}\")\n",
    "\n",
    "x_ones = torch.ones_like(x_data)\n",
    "print(f\"Ones tensor: \\n {x_ones}\\n\")\n",
    "x_rand = torch.rand_like(x_data,dtype=torch.float16)\n",
    "print(f\"Random tensor: \\n {x_rand}\\n\")"
   ]
  },
  {
   "cell_type": "code",
   "execution_count": null,
   "metadata": {},
   "outputs": [],
   "source": []
  }
 ],
 "metadata": {
  "kernelspec": {
   "display_name": "base",
   "language": "python",
   "name": "python3"
  },
  "language_info": {
   "codemirror_mode": {
    "name": "ipython",
    "version": 3
   },
   "file_extension": ".py",
   "mimetype": "text/x-python",
   "name": "python",
   "nbconvert_exporter": "python",
   "pygments_lexer": "ipython3",
   "version": "3.11.7"
  }
 },
 "nbformat": 4,
 "nbformat_minor": 2
}
